{
  "cells": [
    {
      "cell_type": "code",
      "execution_count": null,
      "metadata": {
        "id": "Jp9-QylgCcr9"
      },
      "outputs": [],
      "source": [
        "import sys"
      ]
    },
    {
      "cell_type": "code",
      "execution_count": null,
      "metadata": {
        "id": "DRT_678vCQrr"
      },
      "outputs": [],
      "source": [
        "sys.path.append('/content/drive/MyDrive/BreastCancer')"
      ]
    },
    {
      "cell_type": "code",
      "execution_count": null,
      "metadata": {
        "colab": {
          "base_uri": "https://localhost:8080/"
        },
        "id": "8GRDInu0Cz43",
        "outputId": "1a02306f-59ce-40ce-86df-0ad876957c95"
      },
      "outputs": [
        {
          "name": "stdout",
          "output_type": "stream",
          "text": [
            "\u001b[2K     \u001b[90m━━━━━━━━━━━━━━━━━━━━━━━━━━━━━━━━━━━━━━━━\u001b[0m \u001b[32m380.1/380.1 kB\u001b[0m \u001b[31m8.4 MB/s\u001b[0m eta \u001b[36m0:00:00\u001b[0m\n",
            "\u001b[2K     \u001b[90m━━━━━━━━━━━━━━━━━━━━━━━━━━━━━━━━━━━━━━━━\u001b[0m \u001b[32m233.4/233.4 kB\u001b[0m \u001b[31m15.1 MB/s\u001b[0m eta \u001b[36m0:00:00\u001b[0m\n",
            "\u001b[2K     \u001b[90m━━━━━━━━━━━━━━━━━━━━━━━━━━━━━━━━━━━━━━━━\u001b[0m \u001b[32m78.7/78.7 kB\u001b[0m \u001b[31m11.4 MB/s\u001b[0m eta \u001b[36m0:00:00\u001b[0m\n",
            "\u001b[?25h"
          ]
        }
      ],
      "source": [
        "%pip install opendatasets --quiet\n",
        "%pip install opencv-python --quiet\n",
        "%pip install optuna --quiet"
      ]
    },
    {
      "cell_type": "code",
      "execution_count": null,
      "metadata": {
        "colab": {
          "base_uri": "https://localhost:8080/"
        },
        "id": "VBThVqWNEdiE",
        "outputId": "8a7f25b1-2ccb-4308-abc6-17ab32da506c"
      },
      "outputs": [
        {
          "data": {
            "text/plain": [
              "['/content',\n",
              " '/env/python',\n",
              " '/usr/lib/python310.zip',\n",
              " '/usr/lib/python3.10',\n",
              " '/usr/lib/python3.10/lib-dynload',\n",
              " '',\n",
              " '/usr/local/lib/python3.10/dist-packages',\n",
              " '/usr/lib/python3/dist-packages',\n",
              " '/usr/local/lib/python3.10/dist-packages/IPython/extensions',\n",
              " '/root/.ipython',\n",
              " '/content/drive/MyDrive/BreastCancer']"
            ]
          },
          "execution_count": 5,
          "metadata": {},
          "output_type": "execute_result"
        }
      ],
      "source": [
        "sys.path"
      ]
    },
    {
      "cell_type": "code",
      "execution_count": null,
      "metadata": {
        "colab": {
          "base_uri": "https://localhost:8080/",
          "height": 35
        },
        "id": "tG-fMMOyBuEp",
        "outputId": "1934c691-ad06-4ee5-c8f2-900fed7fe2cb"
      },
      "outputs": [
        {
          "data": {
            "application/vnd.google.colaboratory.intrinsic+json": {
              "type": "string"
            },
            "text/plain": [
              "'/content'"
            ]
          },
          "execution_count": 6,
          "metadata": {},
          "output_type": "execute_result"
        }
      ],
      "source": [
        "import os\n",
        "DIR = os.getcwd()\n",
        "DIR"
      ]
    },
    {
      "cell_type": "code",
      "execution_count": null,
      "metadata": {
        "colab": {
          "background_save": true,
          "base_uri": "https://localhost:8080/",
          "height": 1000
        },
        "id": "b6xIFFsPEyPj",
        "outputId": "2b63a22f-47bc-49cf-bf55-5ad604296f4c"
      },
      "outputs": [
        {
          "name": "stdout",
          "output_type": "stream",
          "text": [
            "ImageClassification(\n",
            "    crop_size=[224]\n",
            "    resize_size=[232]\n",
            "    mean=[0.485, 0.456, 0.406]\n",
            "    std=[0.229, 0.224, 0.225]\n",
            "    interpolation=InterpolationMode.BILINEAR\n",
            ")\n"
          ]
        },
        {
          "name": "stderr",
          "output_type": "stream",
          "text": [
            "[I 2024-04-03 07:09:46,971] A new study created in memory with name: no-name-75d32cd6-eca2-42e1-ace2-092e93442839\n"
          ]
        },
        {
          "name": "stdout",
          "output_type": "stream",
          "text": [
            "530\n"
          ]
        },
        {
          "name": "stderr",
          "output_type": "stream",
          "text": [
            "Downloading: \"https://download.pytorch.org/models/resnet50-11ad3fa6.pth\" to /root/.cache/torch/hub/checkpoints/resnet50-11ad3fa6.pth\n",
            "100%|██████████| 97.8M/97.8M [00:01<00:00, 95.5MB/s]\n"
          ]
        },
        {
          "name": "stdout",
          "output_type": "stream",
          "text": [
            "Epoch 1 accuracy: 0.2344 val_accuracy: 0.375940\n",
            "Epoch 2 accuracy: 0.2469 val_accuracy: 0.533835\n",
            "Epoch 3 accuracy: 0.2625 val_accuracy: 0.533835\n",
            "Epoch 4 accuracy: 0.2344 val_accuracy: 0.548872\n",
            "Epoch 5 accuracy: 0.2750 val_accuracy: 0.503759\n",
            "Epoch 6 accuracy: 0.2375 val_accuracy: 0.533835\n",
            "Epoch 7 accuracy: 0.2594 val_accuracy: 0.518797\n",
            "Epoch 8 accuracy: 0.2875 val_accuracy: 0.533835\n",
            "Epoch 9 accuracy: 0.2812 val_accuracy: 0.563910\n",
            "Epoch 10 accuracy: 0.2625 val_accuracy: 0.541353\n",
            "Epoch 11 accuracy: 0.2906 val_accuracy: 0.548872\n",
            "Epoch 12 accuracy: 0.2781 val_accuracy: 0.526316\n",
            "Epoch 13 accuracy: 0.2656 val_accuracy: 0.533835\n",
            "Epoch 14 accuracy: 0.2812 val_accuracy: 0.533835\n",
            "Epoch 15 accuracy: 0.2562 val_accuracy: 0.518797\n",
            "Epoch 16 accuracy: 0.2781 val_accuracy: 0.533835\n",
            "Epoch 17 accuracy: 0.2844 val_accuracy: 0.541353\n",
            "Epoch 18 accuracy: 0.2969 val_accuracy: 0.518797\n",
            "Epoch 19 accuracy: 0.2812 val_accuracy: 0.526316\n",
            "Epoch 20 accuracy: 0.2750 val_accuracy: 0.533835\n",
            "Epoch 21 accuracy: 0.2781 val_accuracy: 0.541353\n",
            "Epoch 22 accuracy: 0.2719 val_accuracy: 0.533835\n",
            "Epoch 23 accuracy: 0.2750 val_accuracy: 0.533835\n",
            "Epoch 24 accuracy: 0.2750 val_accuracy: 0.541353\n",
            "Epoch 25 accuracy: 0.2750 val_accuracy: 0.548872\n",
            "Epoch 26 accuracy: 0.2719 val_accuracy: 0.526316\n",
            "Epoch 27 accuracy: 0.2844 val_accuracy: 0.526316\n",
            "Epoch 28 accuracy: 0.2969 val_accuracy: 0.533835\n",
            "Epoch 29 accuracy: 0.3031 val_accuracy: 0.518797\n",
            "Epoch 30 accuracy: 0.2781 val_accuracy: 0.526316\n",
            "Epoch 31 accuracy: 0.2781 val_accuracy: 0.548872\n",
            "Epoch 32 accuracy: 0.2937 val_accuracy: 0.518797\n",
            "Epoch 33 accuracy: 0.2781 val_accuracy: 0.548872\n",
            "Epoch 34 accuracy: 0.2719 val_accuracy: 0.533835\n",
            "Epoch 35 accuracy: 0.2750 val_accuracy: 0.518797\n",
            "Epoch 36 accuracy: 0.3219 val_accuracy: 0.541353\n",
            "Epoch 37 accuracy: 0.2781 val_accuracy: 0.533835\n",
            "Epoch 38 accuracy: 0.2875 val_accuracy: 0.533835\n",
            "Epoch 39 accuracy: 0.3000 val_accuracy: 0.533835\n",
            "Epoch 40 accuracy: 0.2656 val_accuracy: 0.533835\n",
            "Epoch 41 accuracy: 0.2719 val_accuracy: 0.556391\n",
            "Epoch 42 accuracy: 0.2750 val_accuracy: 0.533835\n",
            "Epoch 43 accuracy: 0.2719 val_accuracy: 0.533835\n",
            "Epoch 44 accuracy: 0.2906 val_accuracy: 0.526316\n",
            "Epoch 45 accuracy: 0.2781 val_accuracy: 0.541353\n",
            "Epoch 46 accuracy: 0.2844 val_accuracy: 0.518797\n",
            "Epoch 47 accuracy: 0.3000 val_accuracy: 0.541353\n",
            "Epoch 48 accuracy: 0.2688 val_accuracy: 0.541353\n",
            "Epoch 49 accuracy: 0.2812 val_accuracy: 0.541353\n",
            "Epoch 50 accuracy: 0.3031 val_accuracy: 0.541353\n",
            "Epoch 51 accuracy: 0.2781 val_accuracy: 0.548872\n",
            "Epoch 52 accuracy: 0.2719 val_accuracy: 0.526316\n",
            "Epoch 53 accuracy: 0.2937 val_accuracy: 0.548872\n",
            "Epoch 54 accuracy: 0.2688 val_accuracy: 0.548872\n",
            "Epoch 55 accuracy: 0.2688 val_accuracy: 0.526316\n",
            "Epoch 56 accuracy: 0.2594 val_accuracy: 0.541353\n",
            "Epoch 57 accuracy: 0.2750 val_accuracy: 0.533835\n",
            "Epoch 58 accuracy: 0.2812 val_accuracy: 0.556391\n",
            "Epoch 59 accuracy: 0.2750 val_accuracy: 0.533835\n"
          ]
        },
        {
          "name": "stderr",
          "output_type": "stream",
          "text": [
            "[I 2024-04-03 08:32:03,997] Trial 0 finished with value: 0.5413534045219421 and parameters: {'n_layers': 2, 'n_units_l0': 270, 'dropout_l0': 0.11928042629012635, 'n_units_l1': 381, 'dropout_l1': 0.21521735195807362, 'optimizer': 'AdamW', 'lr': 1.0810830499867836e-05}. Best is trial 0 with value: 0.5413534045219421.\n"
          ]
        },
        {
          "name": "stdout",
          "output_type": "stream",
          "text": [
            "Epoch 60 accuracy: 0.3250 val_accuracy: 0.541353\n",
            "Epoch 1 accuracy: 0.2219 val_accuracy: 0.541353\n",
            "Epoch 2 accuracy: 0.2906 val_accuracy: 0.533835\n",
            "Epoch 3 accuracy: 0.2844 val_accuracy: 0.533835\n",
            "Epoch 4 accuracy: 0.2750 val_accuracy: 0.548872\n",
            "Epoch 5 accuracy: 0.2781 val_accuracy: 0.541353\n",
            "Epoch 6 accuracy: 0.2531 val_accuracy: 0.526316\n",
            "Epoch 7 accuracy: 0.2375 val_accuracy: 0.541353\n",
            "Epoch 8 accuracy: 0.2562 val_accuracy: 0.533835\n",
            "Epoch 9 accuracy: 0.2875 val_accuracy: 0.526316\n",
            "Epoch 10 accuracy: 0.2562 val_accuracy: 0.533835\n",
            "Epoch 11 accuracy: 0.2937 val_accuracy: 0.541353\n",
            "Epoch 12 accuracy: 0.2750 val_accuracy: 0.548872\n",
            "Epoch 13 accuracy: 0.2812 val_accuracy: 0.526316\n",
            "Epoch 14 accuracy: 0.3063 val_accuracy: 0.548872\n",
            "Epoch 15 accuracy: 0.2531 val_accuracy: 0.563910\n",
            "Epoch 16 accuracy: 0.2937 val_accuracy: 0.601504\n",
            "Epoch 17 accuracy: 0.3156 val_accuracy: 0.571429\n",
            "Epoch 18 accuracy: 0.3063 val_accuracy: 0.563910\n",
            "Epoch 19 accuracy: 0.3125 val_accuracy: 0.556391\n",
            "Epoch 20 accuracy: 0.2906 val_accuracy: 0.601504\n",
            "Epoch 21 accuracy: 0.3375 val_accuracy: 0.639098\n",
            "Epoch 22 accuracy: 0.3125 val_accuracy: 0.593985\n",
            "Epoch 23 accuracy: 0.3500 val_accuracy: 0.593985\n",
            "Epoch 24 accuracy: 0.3187 val_accuracy: 0.609023\n",
            "Epoch 25 accuracy: 0.3063 val_accuracy: 0.639098\n",
            "Epoch 26 accuracy: 0.3187 val_accuracy: 0.624060\n",
            "Epoch 27 accuracy: 0.3250 val_accuracy: 0.624060\n",
            "Epoch 28 accuracy: 0.3375 val_accuracy: 0.609023\n",
            "Epoch 29 accuracy: 0.3344 val_accuracy: 0.624060\n",
            "Epoch 30 accuracy: 0.3281 val_accuracy: 0.616541\n",
            "Epoch 31 accuracy: 0.3625 val_accuracy: 0.609023\n",
            "Epoch 32 accuracy: 0.3219 val_accuracy: 0.639098\n",
            "Epoch 33 accuracy: 0.3406 val_accuracy: 0.669173\n",
            "Epoch 34 accuracy: 0.3094 val_accuracy: 0.631579\n",
            "Epoch 35 accuracy: 0.3250 val_accuracy: 0.609023\n",
            "Epoch 36 accuracy: 0.3469 val_accuracy: 0.616541\n",
            "Epoch 37 accuracy: 0.3844 val_accuracy: 0.601504\n",
            "Epoch 38 accuracy: 0.3625 val_accuracy: 0.639098\n",
            "Epoch 39 accuracy: 0.3531 val_accuracy: 0.601504\n",
            "Epoch 40 accuracy: 0.3500 val_accuracy: 0.631579\n",
            "Epoch 41 accuracy: 0.3406 val_accuracy: 0.661654\n",
            "Epoch 42 accuracy: 0.3844 val_accuracy: 0.624060\n",
            "Epoch 43 accuracy: 0.3781 val_accuracy: 0.654135\n",
            "Epoch 44 accuracy: 0.3625 val_accuracy: 0.646617\n",
            "Epoch 45 accuracy: 0.3812 val_accuracy: 0.578947\n",
            "Epoch 46 accuracy: 0.3406 val_accuracy: 0.624060\n",
            "Epoch 47 accuracy: 0.3906 val_accuracy: 0.601504\n",
            "Epoch 48 accuracy: 0.3844 val_accuracy: 0.639098\n",
            "Epoch 49 accuracy: 0.3656 val_accuracy: 0.578947\n",
            "Epoch 50 accuracy: 0.3812 val_accuracy: 0.654135\n",
            "Epoch 51 accuracy: 0.3812 val_accuracy: 0.631579\n",
            "Epoch 52 accuracy: 0.3875 val_accuracy: 0.586466\n",
            "Epoch 53 accuracy: 0.4344 val_accuracy: 0.616541\n",
            "Epoch 54 accuracy: 0.3875 val_accuracy: 0.556391\n",
            "Epoch 55 accuracy: 0.4062 val_accuracy: 0.556391\n",
            "Epoch 56 accuracy: 0.4125 val_accuracy: 0.593985\n",
            "Epoch 57 accuracy: 0.4062 val_accuracy: 0.631579\n",
            "Epoch 58 accuracy: 0.4125 val_accuracy: 0.578947\n",
            "Epoch 59 accuracy: 0.4344 val_accuracy: 0.601504\n"
          ]
        },
        {
          "name": "stderr",
          "output_type": "stream",
          "text": [
            "[I 2024-04-03 09:53:19,264] Trial 1 finished with value: 0.6240601539611816 and parameters: {'n_layers': 2, 'n_units_l0': 179, 'dropout_l0': 0.13234239853036264, 'n_units_l1': 233, 'dropout_l1': 0.19686087879438124, 'optimizer': 'SGD', 'lr': 0.03158864678248769}. Best is trial 1 with value: 0.6240601539611816.\n"
          ]
        },
        {
          "name": "stdout",
          "output_type": "stream",
          "text": [
            "Epoch 60 accuracy: 0.4250 val_accuracy: 0.624060\n",
            "Study statistics: \n",
            "  Number of finished trials:  2\n",
            "  Number of pruned trials:  0\n",
            "  Number of complete trials:  2\n",
            "Best trial:\n",
            "  Value:  0.6240601539611816\n",
            "  Params: \n",
            "    n_layers: 2\n",
            "    n_units_l0: 179\n",
            "    dropout_l0: 0.13234239853036264\n",
            "    n_units_l1: 233\n",
            "    dropout_l1: 0.19686087879438124\n",
            "    optimizer: SGD\n",
            "    lr: 0.03158864678248769\n",
            "Epoch 1 accuracy: 0.5377 val_accuracy: 0.541353\n",
            "Epoch 2 accuracy: 0.5585 val_accuracy: 0.541353\n",
            "Epoch 3 accuracy: 0.5585 val_accuracy: 0.541353\n",
            "Epoch 4 accuracy: 0.5585 val_accuracy: 0.556391\n",
            "Epoch 5 accuracy: 0.5698 val_accuracy: 0.601504\n",
            "Epoch 6 accuracy: 0.5868 val_accuracy: 0.609023\n",
            "Epoch 7 accuracy: 0.6113 val_accuracy: 0.616541\n",
            "Epoch 8 accuracy: 0.6396 val_accuracy: 0.624060\n",
            "Epoch 9 accuracy: 0.6434 val_accuracy: 0.609023\n",
            "Epoch 10 accuracy: 0.6491 val_accuracy: 0.609023\n",
            "Epoch 11 accuracy: 0.6849 val_accuracy: 0.609023\n",
            "Epoch 12 accuracy: 0.7151 val_accuracy: 0.631579\n",
            "Epoch 13 accuracy: 0.7170 val_accuracy: 0.646617\n"
          ]
        }
      ],
      "source": [
        "#import pandas as pd\n",
        "import os\n",
        "import opendatasets as od\n",
        "from sklearn.model_selection import train_test_split\n",
        "from torch.utils.data import DataLoader\n",
        "from torchvision.transforms import v2\n",
        "import optuna\n",
        "from optuna.trial import TrialState\n",
        "import torch\n",
        "import numpy as np\n",
        "import matplotlib.pyplot as plt\n",
        "\n",
        "#import helpfunctions\n",
        "from helpFunctions import myOrder, groupFiles, readFilesRGB, get_mean_std, train, objective\n",
        "\n",
        "#import Breast Data Set class BreastCNN and TRAIN\n",
        "from BreastDataSet import BreastDataSet\n",
        "from MyResnet import MyResnet, preprocess\n",
        "\n",
        "#DEVICE = torch.device(\"cpu\")\n",
        "BATCHSIZE = 16\n",
        "CLASSES = 3\n",
        "DIR = sys.path[-1]\n",
        "EPOCHS = 100\n",
        "LR = 0.001\n",
        "\n",
        "#kaggle datasets download -d aryashah2k/breast-ultrasound-images-dataset\n",
        "\n",
        "#Download dataset from kaggle\n",
        "# if not os.path.exists('./breast-ultrasound-images-dataset'):\n",
        "#     dataset = \"https://www.kaggle.com/datasets/aryashah2k/breast-ultrasound-images-dataset\"\n",
        "\n",
        "#     od.download(dataset)\n",
        "\n",
        "data_dir = DIR + \"/breast-ultrasound-images-dataset/Dataset_BUSI_with_GT\"\n",
        "\n",
        "#benign data\n",
        "benign_dir = data_dir + \"/benign\"\n",
        "benign_files = [benign_dir + \"/\" + f for f in os.listdir(benign_dir) if \"mask\" not in f]\n",
        "benign_files.sort(key=myOrder)\n",
        "#grouped_bfiles = groupFiles(benign_files)\n",
        "labels = [1]*len(benign_files)\n",
        "\n",
        "\n",
        "#malignant data\n",
        "malignant_dir = data_dir + \"/malignant\"\n",
        "malignant_files = [malignant_dir + \"/\" + f for f in os.listdir(malignant_dir) if \"mask\" not in f]\n",
        "malignant_files.sort(key=myOrder)\n",
        "#grouped_mfiles = groupFiles(malignant_files)\n",
        "labels_m = [2]*len(malignant_files)\n",
        "\n",
        "\n",
        "#normal data\n",
        "normal_dir = data_dir + \"/normal\"\n",
        "normal_files = [normal_dir + \"/\" + f for f in os.listdir(normal_dir) if \"mask\" not in f]\n",
        "normal_files.sort(key=myOrder)\n",
        "#grouped_nrmfiles = groupFiles(normal_files)\n",
        "labels_n = [0]*len(normal_files)\n",
        "\n",
        "#Create list of all files\n",
        "breast_files = benign_files\n",
        "breast_files.extend(malignant_files)\n",
        "breast_files.extend(normal_files)\n",
        "\n",
        "#labels\n",
        "labels.extend(labels_m)\n",
        "labels.extend(labels_n)\n",
        "\n",
        "breast_files_train, breast_files_test, labels_train, labels_test = train_test_split(breast_files, labels, stratify=labels,\n",
        "                                                                                    test_size=0.15, shuffle=True)\n",
        "\n",
        "breast_files_train, breast_files_valid, labels_train, labels_valid = train_test_split(breast_files_train, labels_train, stratify=labels_train,\n",
        "                                                                                    test_size=0.2, shuffle=True)\n",
        "\n",
        "\n",
        "breast_images_train = readFilesRGB(breast_files_train)\n",
        "breast_images_valid = readFilesRGB(breast_files_valid)\n",
        "breast_images_test = readFilesRGB(breast_files_test)\n",
        "\n",
        "print(len(breast_images_train))\n",
        "\n",
        "# #Data Augmentation for Training set\n",
        "train_transform = v2.Compose([\n",
        "    v2.Resize([256,256]),\n",
        "    v2.RandomCrop(256, padding=8),\n",
        "    v2.RandomHorizontalFlip(),\n",
        "    v2.RandomRotation(180),\n",
        "    v2.RandomVerticalFlip(),\n",
        "    # v2.Resize([227,227]),\n",
        "    # v2.ToImage(),\n",
        "    # v2.ToDtype(torch.float32, scale=True),\n",
        "    # v2.Normalize(mean=mean_train, std=std_train)\n",
        "])\n",
        "\n",
        "\n",
        "train_dataset = BreastDataSet(breast_images_train, labels_train, transform=preprocess)\n",
        "valid_dataset = BreastDataSet(breast_images_valid, labels_valid, transform=preprocess)\n",
        "test_dataset = BreastDataSet(breast_images_test, labels_test, transform=preprocess)\n",
        "\n",
        "if __name__ == \"__main__\":\n",
        "    batch_size = BATCHSIZE\n",
        "    num_epochs = EPOCHS\n",
        "    learning_rate = LR #small batch sizes require small learning rates\n",
        "\n",
        "    train_dl = DataLoader(train_dataset, batch_size, shuffle=True, drop_last=True)\n",
        "    valid_dl = DataLoader(valid_dataset, batch_size, shuffle=True, drop_last=True)\n",
        "    test_dl = DataLoader(test_dataset, batch_size, shuffle=True)\n",
        "\n",
        "    study = optuna.create_study(direction=\"maximize\")\n",
        "    study.optimize(lambda trial: objective(MyResnet(trial), 60, train_dl, valid_dl, trial), n_trials=200, timeout=7200)\n",
        "\n",
        "    pruned_trials = study.get_trials(deepcopy=False, states=[TrialState.PRUNED])\n",
        "    complete_trials = study.get_trials(deepcopy=False, states=[TrialState.COMPLETE])\n",
        "\n",
        "    print(\"Study statistics: \")\n",
        "    print(\"  Number of finished trials: \", len(study.trials))\n",
        "    print(\"  Number of pruned trials: \", len(pruned_trials))\n",
        "    print(\"  Number of complete trials: \", len(complete_trials))\n",
        "\n",
        "    print(\"Best trial:\")\n",
        "    trial = study.best_trial\n",
        "\n",
        "    print(\"  Value: \", trial.value)\n",
        "\n",
        "    print(\"  Params: \")\n",
        "    for key, value in trial.params.items():\n",
        "        print(\"    {}: {}\".format(key, value))\n",
        "\n",
        "\n",
        "    model = MyResnet(trial)\n",
        "\n",
        "    hist = train(model, num_epochs, train_dl, valid_dl, trial)\n",
        "\n",
        "    torch.save(model.state_dict(), DIR + '/saved_model/breastCancerDetection.pth')\n",
        "\n",
        "    model = MyResnet(trial)\n",
        "    model.load_state_dict(torch.load(DIR + \"/saved_model/breastCancerDetection.pth\"))\n",
        "    accuracy_test = 0\n",
        "    model.eval()\n",
        "    with torch.no_grad():\n",
        "        for imgs_batch, labels_batch in test_dl:\n",
        "            pred = model(imgs_batch)\n",
        "            is_correct = (torch.argmax(pred, dim=1) == labels_batch).float()\n",
        "            accuracy_test += is_correct.sum()\n",
        "    accuracy_test /= len(test_dl.dataset)\n",
        "    print(f'Test accuracy: {accuracy_test:.4f}')\n",
        "\n",
        "    x_arr = np.arange(len(hist[0])) + 1\n",
        "    fig = plt.figure(figsize=(12,4))\n",
        "    ax = fig.add_subplot(1,2,1)\n",
        "    ax.plot(x_arr, hist[0], \"-o\", label = \"Train acc.\")\n",
        "    ax.plot(x_arr, hist[1], \"--<\", label = \"Validation acc.\")\n",
        "    ax.legend(fontsize=15)\n",
        "    ax.set_xlabel(\"Epoch\", size=15)\n",
        "    ax.set_ylabel(\"Loss\", size=15)\n",
        "    ax = fig.add_subplot(1,2,2)\n",
        "    ax.plot(x_arr, hist[2], \"-o\", label = \"Train loss\")\n",
        "    ax.plot(x_arr, hist[3], \"-o\", label = \"Train loss\")\n",
        "    ax.legend(fontsize=15)\n",
        "    ax.set_xlabel(\"Epoch\", size=15)\n",
        "    ax.set_ylabel(\"Accuracy\", size=15)\n",
        "    fig.savefig(DIR + \"/Figures/Loss-Accuracy.png\")"
      ]
    }
  ],
  "metadata": {
    "accelerator": "GPU",
    "colab": {
      "gpuType": "T4",
      "provenance": []
    },
    "kernelspec": {
      "display_name": "Python 3",
      "name": "python3"
    },
    "language_info": {
      "name": "python"
    }
  },
  "nbformat": 4,
  "nbformat_minor": 0
}